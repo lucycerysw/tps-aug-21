{
 "cells": [
  {
   "cell_type": "code",
   "execution_count": null,
   "id": "1d69b7f9",
   "metadata": {},
   "outputs": [],
   "source": [
    "pip install hyperopt"
   ]
  },
  {
   "cell_type": "code",
   "execution_count": 1,
   "id": "fcd53650",
   "metadata": {},
   "outputs": [],
   "source": [
    "import numpy as np\n",
    "import pandas as pd\n",
    "import matplotlib as mpl\n",
    "import matplotlib.pyplot as plt\n",
    "import seaborn as sns \n",
    "\n",
    "from hyperopt import hp, fmin, atpe, Trials\n",
    "\n",
    "from hyperopt.pyll.base import scope\n",
    "\n",
    "from sklearn.metrics import mean_squared_log_error\n",
    "from sklearn.model_selection import StratifiedKFold\n",
    "from sklearn.preprocessing import StandardScaler, PolynomialFeatures\n",
    "from sklearn.pipeline import Pipeline\n",
    "\n",
    "from functools import partial\n",
    "\n",
    "from sklearn import model_selection"
   ]
  },
  {
   "cell_type": "code",
   "execution_count": 2,
   "id": "69dc4d2f",
   "metadata": {},
   "outputs": [],
   "source": [
    "mpl.rcParams['figure.dpi'] = 200\n",
    "mpl.rcParams['axes.spines.top'] = False\n",
    "mpl.rcParams['axes.spines.right'] = False"
   ]
  },
  {
   "cell_type": "code",
   "execution_count": 3,
   "id": "dc536964",
   "metadata": {},
   "outputs": [],
   "source": [
    "train = pd.read_csv('/Users/lucywilliams/Downloads/tabular-playground-series-aug-2021/train.csv')\n",
    "test = pd.read_csv('/Users/lucywilliams/Downloads/tabular-playground-series-aug-2021/test.csv')\n",
    "sample_submission = pd.read_csv('/Users/lucywilliams/Downloads/tabular-playground-series-aug-2021/sample_submission.csv')"
   ]
  },
  {
   "cell_type": "code",
   "execution_count": 4,
   "id": "5c0f6c36",
   "metadata": {},
   "outputs": [
    {
     "data": {
      "text/plain": [
       "(250000, 102)"
      ]
     },
     "execution_count": 4,
     "metadata": {},
     "output_type": "execute_result"
    }
   ],
   "source": [
    "train.shape"
   ]
  },
  {
   "cell_type": "code",
   "execution_count": 5,
   "id": "b636c30f",
   "metadata": {},
   "outputs": [],
   "source": [
    "train['kfold']= -1\n",
    "train = train.sample(frac=1).reset_index(drop=True)\n",
    "train.loc[:, \"bins\"] = pd.cut(\n",
    " train[\"loss\"], bins=19, labels=False\n",
    " )\n",
    "kf = model_selection.StratifiedKFold(n_splits=10)\n",
    "for f, (t_, v_) in enumerate(kf.split(X=train, y=train.bins.values)):\n",
    "    train.loc[v_, 'kfold'] = f\n",
    "train = train.drop(\"bins\", axis=1)"
   ]
  },
  {
   "cell_type": "code",
   "execution_count": 6,
   "id": "0f2b6212",
   "metadata": {},
   "outputs": [],
   "source": [
    "X=train.iloc[:,1:].copy()\n",
    "X.drop('loss',axis=1,inplace=True)"
   ]
  },
  {
   "cell_type": "code",
   "execution_count": 7,
   "id": "3b7a117e",
   "metadata": {},
   "outputs": [],
   "source": [
    "target =['loss', 'kfold']\n",
    "X=X\n",
    "y=train[target]"
   ]
  },
  {
   "cell_type": "code",
   "execution_count": null,
   "id": "86b73d0e",
   "metadata": {},
   "outputs": [],
   "source": []
  }
 ],
 "metadata": {
  "kernelspec": {
   "display_name": "Python 3",
   "language": "python",
   "name": "python3"
  },
  "language_info": {
   "codemirror_mode": {
    "name": "ipython",
    "version": 3
   },
   "file_extension": ".py",
   "mimetype": "text/x-python",
   "name": "python",
   "nbconvert_exporter": "python",
   "pygments_lexer": "ipython3",
   "version": "3.8.8"
  }
 },
 "nbformat": 4,
 "nbformat_minor": 5
}
