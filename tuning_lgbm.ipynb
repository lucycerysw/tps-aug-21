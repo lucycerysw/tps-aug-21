{
 "cells": [
  {
   "cell_type": "markdown",
   "metadata": {},
   "source": [
    "# Imports"
   ]
  },
  {
   "cell_type": "code",
   "execution_count": 1,
   "metadata": {
    "_cell_guid": "b1076dfc-b9ad-4769-8c92-a6c4dae69d19",
    "_uuid": "8f2839f25d086af736a60e9eeb907d3b93b6e0e5",
    "tags": []
   },
   "outputs": [],
   "source": [
    "import numpy as np\n",
    "import pandas as pd \n",
    "import glob\n",
    "import copy\n",
    "\n",
    "import warnings\n",
    "import joblib\n",
    "\n",
    "from sklearn.model_selection import train_test_split, KFold\n",
    "from lightgbm import LGBMRegressor\n",
    "import gc\n",
    "from tqdm import tqdm\n",
    "from sklearn.metrics import mean_squared_error\n",
    "warnings.filterwarnings(action='ignore', category=UserWarning)\n",
    "import os\n",
    "import time\n",
    "import random"
   ]
  },
  {
   "cell_type": "code",
   "execution_count": 2,
   "metadata": {
    "tags": []
   },
   "outputs": [],
   "source": [
    "from sklearn.metrics import mean_squared_error\n",
    "def rmse(y_true, y_pred):\n",
    "    return mean_squared_error(y_true, y_pred, squared=False)"
   ]
  },
  {
   "cell_type": "markdown",
   "metadata": {},
   "source": [
    "# Config"
   ]
  },
  {
   "cell_type": "code",
   "execution_count": 3,
   "metadata": {
    "tags": []
   },
   "outputs": [],
   "source": [
    "folds = 10\n",
    "seed_list = [i for i in range(20, 25)]\n",
    "early_stopping = 50"
   ]
  },
  {
   "cell_type": "code",
   "execution_count": 4,
   "metadata": {
    "tags": []
   },
   "outputs": [],
   "source": [
    "train = pd.read_csv(\"D:/KaggleTabular/August/train.csv\", index_col=0)\n",
    "test = pd.read_csv(\"D:/KaggleTabular/August/test.csv\").drop(\"id\", axis = 1)\n",
    "y = train.loss\n",
    "X = train.drop([\"loss\"], axis = 1)"
   ]
  },
  {
   "cell_type": "code",
   "execution_count": 5,
   "metadata": {
    "tags": []
   },
   "outputs": [
    {
     "data": {
      "text/plain": [
       "((250000, 100), (250000,))"
      ]
     },
     "execution_count": 5,
     "metadata": {},
     "output_type": "execute_result"
    }
   ],
   "source": [
    "X.shape, y.shape"
   ]
  },
  {
   "cell_type": "markdown",
   "metadata": {},
   "source": [
    "# Optuna Tuning"
   ]
  },
  {
   "cell_type": "code",
   "execution_count": 10,
   "metadata": {
    "execution": {
     "iopub.execute_input": "2021-08-01T16:49:14.510738Z",
     "iopub.status.busy": "2021-08-01T16:49:14.510405Z",
     "iopub.status.idle": "2021-08-01T16:49:14.522477Z",
     "shell.execute_reply": "2021-08-01T16:49:14.521506Z",
     "shell.execute_reply.started": "2021-08-01T16:49:14.510710Z"
    }
   },
   "outputs": [],
   "source": [
    "import optuna\n",
    "\n",
    "def objective(trial , X = X , y = y):\n",
    "    \n",
    "    params = {\n",
    "        'reg_alpha' : trial.suggest_loguniform('reg_alpha', 0.19, 0.5),\n",
    "        'reg_lambda' : trial.suggest_loguniform('reg_lambda', 0.31, 0.34),\n",
    "        'num_leaves' : trial.suggest_int('num_leaves', 50, 91),\n",
    "        'learning_rate' : trial.suggest_uniform('learning_rate', 0.01, 0.07),\n",
    "        'max_depth' : trial.suggest_int('max_depth', 3 , 67),\n",
    "        'n_estimators' : trial.suggest_int('n_estimators', 5555, 7000),\n",
    "        'min_child_weight' : trial.suggest_loguniform('min_child_weight', 0.012, 0.04),\n",
    "        'subsample' : trial.suggest_uniform('subsample', 0.789, 1.0),\n",
    "        'colsample_bytree' : trial.suggest_loguniform('colsample_bytree', 0.52, 1),\n",
    "        'min_child_samples' : trial.suggest_int('min_child_samples', 76, 80),\n",
    "        'metric' : 'rmse',\n",
    "        'device_type' : 'gpu',\n",
    "    }\n",
    "    \n",
    "    pruning_callback = optuna.integration.LightGBMPruningCallback(trial, 'rmse', valid_name = 'valid_0')  \n",
    "    \n",
    "    score = 0\n",
    "    for seed in seed_list: \n",
    "        kf = KFold(n_splits = folds ,random_state= seed, shuffle=True)\n",
    "        for idx_train,idx_test in kf.split(X, y):\n",
    "            X_train,X_test=X.iloc[idx_train],X.iloc[idx_test]\n",
    "            y_train,y_test=y.iloc[idx_train],y.iloc[idx_test]\n",
    "            \n",
    "            model = LGBMRegressor(**params, random_state = seed, n_jobs = -1)\n",
    "            \n",
    "            model.fit(\n",
    "                X_train,\n",
    "                y_train,\n",
    "                eval_set = [(X_test , y_test)],\n",
    "                eval_metric = 'rmse',\n",
    "                early_stopping_rounds = early_stopping,\n",
    "                verbose = 0, \n",
    "                callbacks = [pruning_callback]\n",
    "            )\n",
    "            \n",
    "            y_pred = model.predict(X_test)  \n",
    "            \n",
    "            score += (rmse(y_test, y_pred) / folds) / len(seed_list)\n",
    "            \n",
    "    return score"
   ]
  },
  {
   "cell_type": "code",
   "execution_count": 11,
   "metadata": {
    "execution": {
     "iopub.execute_input": "2021-08-01T16:49:23.226727Z",
     "iopub.status.busy": "2021-08-01T16:49:23.226386Z",
     "iopub.status.idle": "2021-08-01T16:49:23.237081Z",
     "shell.execute_reply": "2021-08-01T16:49:23.236080Z",
     "shell.execute_reply.started": "2021-08-01T16:49:23.226696Z"
    }
   },
   "outputs": [
    {
     "name": "stderr",
     "output_type": "stream",
     "text": [
      "\u001b[32m[I 2021-08-01 16:49:23,229]\u001b[0m A new study created in memory with name: lgbm\u001b[0m\n"
     ]
    }
   ],
   "source": [
    "study = optuna.create_study(direction = 'minimize',\n",
    "                            study_name = 'lgbm',\n",
    "                            sampler=optuna.samplers.TPESampler(),\n",
    "                            pruner = optuna.pruners.HyperbandPruner())"
   ]
  },
  {
   "cell_type": "code",
   "execution_count": 12,
   "metadata": {
    "execution": {
     "iopub.execute_input": "2021-08-01T16:50:21.896421Z",
     "iopub.status.busy": "2021-08-01T16:50:21.896063Z",
     "iopub.status.idle": "2021-08-01T17:07:50.894172Z",
     "shell.execute_reply": "2021-08-01T17:07:50.893234Z",
     "shell.execute_reply.started": "2021-08-01T16:50:21.896388Z"
    }
   },
   "outputs": [
    {
     "name": "stderr",
     "output_type": "stream",
     "text": [
      "\u001b[32m[I 2021-08-01 16:53:15,909]\u001b[0m Trial 0 finished with value: 7.8537766726997225 and parameters: {'reg_alpha': 0.27947761573796387, 'reg_lambda': 0.32968190405991565, 'num_leaves': 70, 'learning_rate': 0.056719629827485324, 'max_depth': 67, 'n_estimators': 5781, 'min_child_weight': 0.027395340130487212, 'subsample': 0.8975524845048134, 'colsample_bytree': 0.7863318628962568, 'min_child_samples': 80}. Best is trial 0 with value: 7.8537766726997225.\u001b[0m\n",
      "\u001b[32m[I 2021-08-01 16:55:28,580]\u001b[0m Trial 1 finished with value: 7.852190611713889 and parameters: {'reg_alpha': 0.25026940971995765, 'reg_lambda': 0.3148535615133942, 'num_leaves': 59, 'learning_rate': 0.06702877987882784, 'max_depth': 39, 'n_estimators': 6503, 'min_child_weight': 0.02133117248096531, 'subsample': 0.9415192918547926, 'colsample_bytree': 0.5330768413449423, 'min_child_samples': 78}. Best is trial 1 with value: 7.852190611713889.\u001b[0m\n",
      "\u001b[32m[I 2021-08-01 16:59:14,595]\u001b[0m Trial 2 finished with value: 7.84950073294967 and parameters: {'reg_alpha': 0.4769722744188756, 'reg_lambda': 0.334061599522126, 'num_leaves': 90, 'learning_rate': 0.044949701791787484, 'max_depth': 65, 'n_estimators': 5606, 'min_child_weight': 0.03967086971827211, 'subsample': 0.9246803121468102, 'colsample_bytree': 0.6391707670912737, 'min_child_samples': 79}. Best is trial 2 with value: 7.84950073294967.\u001b[0m\n",
      "\u001b[32m[I 2021-08-01 17:02:19,762]\u001b[0m Trial 3 finished with value: 7.851228251274316 and parameters: {'reg_alpha': 0.23360286988295723, 'reg_lambda': 0.33272552211720935, 'num_leaves': 87, 'learning_rate': 0.05214209843501676, 'max_depth': 16, 'n_estimators': 5663, 'min_child_weight': 0.01621365945978634, 'subsample': 0.9751643769636067, 'colsample_bytree': 0.6664414219031823, 'min_child_samples': 77}. Best is trial 2 with value: 7.84950073294967.\u001b[0m\n",
      "\u001b[32m[I 2021-08-01 17:05:04,285]\u001b[0m Trial 4 finished with value: 7.855414553433344 and parameters: {'reg_alpha': 0.37430034510575483, 'reg_lambda': 0.3141906250651403, 'num_leaves': 84, 'learning_rate': 0.06621803543991515, 'max_depth': 39, 'n_estimators': 6044, 'min_child_weight': 0.012473447767511286, 'subsample': 0.8231082740394979, 'colsample_bytree': 0.9659572870941882, 'min_child_samples': 80}. Best is trial 2 with value: 7.84950073294967.\u001b[0m\n",
      "\u001b[32m[I 2021-08-01 17:05:08,961]\u001b[0m Trial 5 pruned. Trial was pruned at iteration 1.\u001b[0m\n",
      "\u001b[32m[I 2021-08-01 17:05:13,448]\u001b[0m Trial 6 pruned. Trial was pruned at iteration 1.\u001b[0m\n",
      "\u001b[32m[I 2021-08-01 17:05:18,450]\u001b[0m Trial 7 pruned. Trial was pruned at iteration 1.\u001b[0m\n",
      "\u001b[32m[I 2021-08-01 17:07:50,724]\u001b[0m Trial 8 finished with value: 7.854327772930612 and parameters: {'reg_alpha': 0.35588715012831273, 'reg_lambda': 0.3364473422186993, 'num_leaves': 65, 'learning_rate': 0.06710651439342005, 'max_depth': 37, 'n_estimators': 6927, 'min_child_weight': 0.024319895076821266, 'subsample': 0.8254936835794274, 'colsample_bytree': 0.8191414757018594, 'min_child_samples': 77}. Best is trial 2 with value: 7.84950073294967.\u001b[0m\n"
     ]
    },
    {
     "name": "stdout",
     "output_type": "stream",
     "text": [
      "CPU times: user 31min 56s, sys: 32.2 s, total: 32min 28s\n",
      "Wall time: 17min 28s\n"
     ]
    }
   ],
   "source": [
    "%%time\n",
    "study.optimize(\n",
    "    objective,\n",
    "    timeout=3600*7.5,\n",
    "    gc_after_trial=True\n",
    ")"
   ]
  },
  {
   "cell_type": "code",
   "execution_count": 15,
   "metadata": {
    "execution": {
     "iopub.execute_input": "2021-08-01T17:11:43.727043Z",
     "iopub.status.busy": "2021-08-01T17:11:43.726722Z",
     "iopub.status.idle": "2021-08-01T17:11:43.741008Z",
     "shell.execute_reply": "2021-08-01T17:11:43.740133Z",
     "shell.execute_reply.started": "2021-08-01T17:11:43.727013Z"
    }
   },
   "outputs": [
    {
     "name": "stdout",
     "output_type": "stream",
     "text": [
      "Finished Trials: 9\n",
      "Best Params: {'reg_alpha': 0.4769722744188756, 'reg_lambda': 0.334061599522126, 'num_leaves': 90, 'learning_rate': 0.044949701791787484, 'max_depth': 65, 'n_estimators': 5606, 'min_child_weight': 0.03967086971827211, 'subsample': 0.9246803121468102, 'colsample_bytree': 0.6391707670912737, 'min_child_samples': 79}\n",
      "Best RMSE: 7.84950073294967\n"
     ]
    }
   ],
   "source": [
    "print('Finished Trials:' , len(study.trials))\n",
    "print('Best Params:' , study.best_trial.params)\n",
    "print('Best RMSE:' , study.best_value)"
   ]
  },
  {
   "cell_type": "code",
   "execution_count": 17,
   "metadata": {
    "execution": {
     "iopub.execute_input": "2021-08-01T17:12:08.009284Z",
     "iopub.status.busy": "2021-08-01T17:12:08.008947Z",
     "iopub.status.idle": "2021-08-01T17:12:08.015629Z",
     "shell.execute_reply": "2021-08-01T17:12:08.014724Z",
     "shell.execute_reply.started": "2021-08-01T17:12:08.009254Z"
    }
   },
   "outputs": [],
   "source": [
    "params = study.best_trial.params"
   ]
  },
  {
   "cell_type": "markdown",
   "metadata": {},
   "source": [
    "# Train Best Models"
   ]
  },
  {
   "cell_type": "code",
   "execution_count": 6,
   "metadata": {},
   "outputs": [],
   "source": [
    "params = {\n",
    "    'device':'cpu',\n",
    "    'boosting_type':'gbdt',\n",
    "    'metric':'rmse',\n",
    "    'num_iterations':10000,\n",
    "    'reg_alpha': 0.4289319768702188,\n",
    "    'reg_lambda': 0.32373768916640583,\n",
    "    'num_leaves': 72,\n",
    "    'learning_rate': 0.04036898008526141,\n",
    "    'max_depth': 44,\n",
    "    'n_estimators': 6713,\n",
    "    'min_child_weight': 0.014075875129886667,\n",
    "    'subsample': 0.8092436815214556,\n",
    "    'colsample_bytree': 0.5963038980389906,\n",
    "    'min_child_samples': 78\n",
    "}"
   ]
  },
  {
   "cell_type": "code",
   "execution_count": null,
   "metadata": {
    "scrolled": true,
    "tags": []
   },
   "outputs": [
    {
     "name": "stdout",
     "output_type": "stream",
     "text": [
      "========================================\n",
      "seed 20\n",
      "fold 1\n",
      "========================================\n",
      "fold 1 took 8 seconds to run\n",
      "The estimated remaining training time in the current seed 20 are 1.2 minutes\n",
      "Validation score 7.809206175471103\n",
      "========================================\n",
      "seed 20\n",
      "fold 2\n",
      "========================================\n",
      "fold 2 took 7 seconds to run\n",
      "The estimated remaining training time in the current seed 20 are 0.933 minutes\n",
      "Validation score 7.79111600995067\n",
      "========================================\n",
      "seed 20\n",
      "fold 3\n",
      "========================================\n",
      "fold 3 took 6 seconds to run\n",
      "The estimated remaining training time in the current seed 20 are 0.7 minutes\n",
      "Validation score 7.9070163621722855\n",
      "========================================\n",
      "seed 20\n",
      "fold 4\n",
      "========================================\n",
      "fold 4 took 6 seconds to run\n",
      "The estimated remaining training time in the current seed 20 are 0.6 minutes\n",
      "Validation score 7.8970518441622835\n",
      "========================================\n",
      "seed 20\n",
      "fold 5\n",
      "========================================\n",
      "fold 5 took 7 seconds to run\n",
      "The estimated remaining training time in the current seed 20 are 0.583 minutes\n",
      "Validation score 7.85169467817502\n",
      "========================================\n",
      "seed 20\n",
      "fold 6\n",
      "========================================\n",
      "fold 6 took 6 seconds to run\n",
      "The estimated remaining training time in the current seed 20 are 0.4 minutes\n",
      "Validation score 7.831558085537865\n",
      "========================================\n",
      "seed 20\n",
      "fold 7\n",
      "========================================\n",
      "fold 7 took 7 seconds to run\n",
      "The estimated remaining training time in the current seed 20 are 0.35 minutes\n",
      "Validation score 7.880238871867379\n",
      "========================================\n",
      "seed 20\n",
      "fold 8\n",
      "========================================\n",
      "fold 8 took 7 seconds to run\n",
      "The estimated remaining training time in the current seed 20 are 0.233 minutes\n",
      "Validation score 7.832585673688749\n",
      "========================================\n",
      "seed 20\n",
      "fold 9\n",
      "========================================\n",
      "fold 9 took 6 seconds to run\n",
      "The estimated remaining training time in the current seed 20 are 0.1 minutes\n",
      "Validation score 7.828487955780066\n",
      "========================================\n",
      "seed 20\n",
      "fold 10\n",
      "========================================\n",
      "fold 10 took 6 seconds to run\n",
      "The estimated remaining training time in the current seed 20 are 0.0 minutes\n",
      "Validation score 7.843202117824596\n",
      "========================================\n",
      "seed 21\n",
      "fold 1\n",
      "========================================\n",
      "fold 1 took 7 seconds to run\n",
      "The estimated remaining training time in the current seed 21 are 1.05 minutes\n",
      "Validation score 7.904683765028285\n",
      "========================================\n",
      "seed 21\n",
      "fold 2\n",
      "========================================\n",
      "fold 2 took 6 seconds to run\n",
      "The estimated remaining training time in the current seed 21 are 0.8 minutes\n",
      "Validation score 7.868595100079739\n",
      "========================================\n",
      "seed 21\n",
      "fold 3\n",
      "========================================\n",
      "fold 3 took 9 seconds to run\n",
      "The estimated remaining training time in the current seed 21 are 1.05 minutes\n",
      "Validation score 7.8613436052008385\n",
      "========================================\n",
      "seed 21\n",
      "fold 4\n",
      "========================================\n",
      "fold 4 took 7 seconds to run\n",
      "The estimated remaining training time in the current seed 21 are 0.7 minutes\n",
      "Validation score 7.826698750387274\n",
      "========================================\n",
      "seed 21\n",
      "fold 5\n",
      "========================================\n",
      "fold 5 took 6 seconds to run\n",
      "The estimated remaining training time in the current seed 21 are 0.5 minutes\n",
      "Validation score 7.833511354280536\n",
      "========================================\n",
      "seed 21\n",
      "fold 6\n",
      "========================================\n",
      "fold 6 took 7 seconds to run\n",
      "The estimated remaining training time in the current seed 21 are 0.467 minutes\n",
      "Validation score 7.824540740146547\n",
      "========================================\n",
      "seed 21\n",
      "fold 7\n",
      "========================================\n",
      "fold 7 took 5 seconds to run\n",
      "The estimated remaining training time in the current seed 21 are 0.25 minutes\n",
      "Validation score 7.807095318284095\n",
      "========================================\n",
      "seed 21\n",
      "fold 8\n",
      "========================================\n",
      "fold 8 took 7 seconds to run\n",
      "The estimated remaining training time in the current seed 21 are 0.233 minutes\n",
      "Validation score 7.767856703276056\n",
      "========================================\n",
      "seed 21\n",
      "fold 9\n",
      "========================================\n",
      "fold 9 took 7 seconds to run\n",
      "The estimated remaining training time in the current seed 21 are 0.117 minutes\n",
      "Validation score 7.848949344175848\n",
      "========================================\n",
      "seed 21\n",
      "fold 10\n",
      "========================================\n",
      "fold 10 took 7 seconds to run\n",
      "The estimated remaining training time in the current seed 21 are 0.0 minutes\n",
      "Validation score 7.944618092156602\n",
      "========================================\n",
      "seed 22\n",
      "fold 1\n",
      "========================================\n",
      "fold 1 took 6 seconds to run\n",
      "The estimated remaining training time in the current seed 22 are 0.9 minutes\n",
      "Validation score 7.899245339559964\n",
      "========================================\n",
      "seed 22\n",
      "fold 2\n",
      "========================================\n",
      "fold 2 took 8 seconds to run\n",
      "The estimated remaining training time in the current seed 22 are 1.067 minutes\n",
      "Validation score 7.803134584686479\n",
      "========================================\n",
      "seed 22\n",
      "fold 3\n",
      "========================================\n",
      "fold 3 took 6 seconds to run\n",
      "The estimated remaining training time in the current seed 22 are 0.7 minutes\n",
      "Validation score 7.90209155011477\n",
      "========================================\n",
      "seed 22\n",
      "fold 4\n",
      "========================================\n",
      "fold 4 took 8 seconds to run\n",
      "The estimated remaining training time in the current seed 22 are 0.8 minutes\n",
      "Validation score 7.784044169282212\n",
      "========================================\n",
      "seed 22\n",
      "fold 5\n",
      "========================================\n",
      "fold 5 took 10 seconds to run\n",
      "The estimated remaining training time in the current seed 22 are 0.833 minutes\n",
      "Validation score 7.822020448979126\n",
      "========================================\n",
      "seed 22\n",
      "fold 6\n",
      "========================================\n",
      "fold 6 took 6 seconds to run\n",
      "The estimated remaining training time in the current seed 22 are 0.4 minutes\n",
      "Validation score 7.94544788989135\n",
      "========================================\n",
      "seed 22\n",
      "fold 7\n",
      "========================================\n",
      "fold 7 took 7 seconds to run\n",
      "The estimated remaining training time in the current seed 22 are 0.35 minutes\n",
      "Validation score 7.805940897387153\n",
      "========================================\n",
      "seed 22\n",
      "fold 8\n",
      "========================================\n",
      "fold 8 took 8 seconds to run\n",
      "The estimated remaining training time in the current seed 22 are 0.267 minutes\n",
      "Validation score 7.852103722158261\n",
      "========================================\n",
      "seed 22\n",
      "fold 9\n",
      "========================================\n",
      "fold 9 took 7 seconds to run\n",
      "The estimated remaining training time in the current seed 22 are 0.117 minutes\n",
      "Validation score 7.8305610598593525\n",
      "========================================\n",
      "seed 22\n",
      "fold 10\n",
      "========================================\n",
      "fold 10 took 6 seconds to run\n",
      "The estimated remaining training time in the current seed 22 are 0.0 minutes\n",
      "Validation score 7.842943396808932\n",
      "========================================\n",
      "seed 23\n",
      "fold 1\n",
      "========================================\n",
      "fold 1 took 6 seconds to run\n",
      "The estimated remaining training time in the current seed 23 are 0.9 minutes\n",
      "Validation score 7.804889873765116\n",
      "========================================\n",
      "seed 23\n",
      "fold 2\n",
      "========================================\n",
      "fold 2 took 8 seconds to run\n",
      "The estimated remaining training time in the current seed 23 are 1.067 minutes\n",
      "Validation score 7.740977873393989\n",
      "========================================\n",
      "seed 23\n",
      "fold 3\n",
      "========================================\n",
      "fold 3 took 7 seconds to run\n",
      "The estimated remaining training time in the current seed 23 are 0.817 minutes\n",
      "Validation score 7.8213629871022965\n",
      "========================================\n",
      "seed 23\n",
      "fold 4\n",
      "========================================\n",
      "fold 4 took 6 seconds to run\n",
      "The estimated remaining training time in the current seed 23 are 0.6 minutes\n",
      "Validation score 7.892667065384722\n",
      "========================================\n",
      "seed 23\n",
      "fold 5\n",
      "========================================\n",
      "fold 5 took 6 seconds to run\n",
      "The estimated remaining training time in the current seed 23 are 0.5 minutes\n",
      "Validation score 7.887777613924378\n",
      "========================================\n",
      "seed 23\n",
      "fold 6\n",
      "========================================\n",
      "fold 6 took 8 seconds to run\n",
      "The estimated remaining training time in the current seed 23 are 0.533 minutes\n",
      "Validation score 7.8460944017709835\n",
      "========================================\n",
      "seed 23\n",
      "fold 7\n",
      "========================================\n",
      "fold 7 took 7 seconds to run\n",
      "The estimated remaining training time in the current seed 23 are 0.35 minutes\n",
      "Validation score 7.84537755115916\n",
      "========================================\n",
      "seed 23\n",
      "fold 8\n",
      "========================================\n",
      "fold 8 took 8 seconds to run\n",
      "The estimated remaining training time in the current seed 23 are 0.267 minutes\n",
      "Validation score 7.993849300128776\n",
      "========================================\n",
      "seed 23\n",
      "fold 9\n",
      "========================================\n",
      "fold 9 took 7 seconds to run\n",
      "The estimated remaining training time in the current seed 23 are 0.117 minutes\n",
      "Validation score 7.846706974875632\n",
      "========================================\n",
      "seed 23\n",
      "fold 10\n",
      "========================================\n",
      "fold 10 took 7 seconds to run\n",
      "The estimated remaining training time in the current seed 23 are 0.0 minutes\n",
      "Validation score 7.7808463819083205\n",
      "========================================\n",
      "seed 24\n",
      "fold 1\n",
      "========================================\n",
      "fold 1 took 7 seconds to run\n",
      "The estimated remaining training time in the current seed 24 are 1.05 minutes\n",
      "Validation score 7.830141613166039\n",
      "========================================\n",
      "seed 24\n",
      "fold 2\n",
      "========================================\n",
      "fold 2 took 6 seconds to run\n",
      "The estimated remaining training time in the current seed 24 are 0.8 minutes\n",
      "Validation score 7.870419419487697\n",
      "========================================\n",
      "seed 24\n",
      "fold 3\n",
      "========================================\n",
      "fold 3 took 8 seconds to run\n",
      "The estimated remaining training time in the current seed 24 are 0.933 minutes\n",
      "Validation score 7.845812005350827\n",
      "========================================\n",
      "seed 24\n",
      "fold 4\n",
      "========================================\n",
      "fold 4 took 6 seconds to run\n",
      "The estimated remaining training time in the current seed 24 are 0.6 minutes\n",
      "Validation score 7.938382041842214\n",
      "========================================\n",
      "seed 24\n",
      "fold 5\n",
      "========================================\n"
     ]
    }
   ],
   "source": [
    "show_feature_importance = 1\n",
    "show_time = 1\n",
    "\n",
    "score = 0\n",
    "if show_feature_importance:\n",
    "    features_importance= pd.DataFrame({'Feature':[], 'Importance':[]})\n",
    "    features = X.columns\n",
    "    \n",
    "for seed in seed_list: \n",
    "    kf = KFold(n_splits = folds, random_state=seed, shuffle=True)\n",
    "    count = 1\n",
    "    for idx_train,idx_test in kf.split(X, y):\n",
    "        \n",
    "        print(\"=\" * 40)\n",
    "        print(\"seed\", seed)\n",
    "        print(\"fold\", count)\n",
    "        print(\"=\" * 40)\n",
    "        \n",
    "        if show_time:\n",
    "            start_time = time.time()\n",
    "        \n",
    "        X_train, X_test = X.iloc[idx_train], X.iloc[idx_test]\n",
    "        y_train, y_test = y.iloc[idx_train], y.iloc[idx_test]\n",
    "        \n",
    "        model = LGBMRegressor(**params, random_state = seed)\n",
    "        model.fit(X_train, y_train, eval_set = [(X_test , y_test.values.ravel())], eval_metric = 'rmse',\\\n",
    "                  early_stopping_rounds = early_stopping, verbose = False)\n",
    "        \n",
    "        cv_score = rmse(y_test.values.ravel(), model.predict(X_test))\n",
    "        score += (cv_score / folds) / len(seed_list)\n",
    "        \n",
    "        joblib.dump(model, f'fold_models/LGBM seed_{seed}_fold_{count}_cv_score_{round(cv_score, 5)}.pkl') # save model\n",
    "        \n",
    "        if show_feature_importance:\n",
    "            fold_importance_df= pd.DataFrame({'Feature':[], 'Importance':[]})\n",
    "            fold_importance_df['Feature']= features\n",
    "            fold_importance_df['Importance']= model.feature_importances_\n",
    "            fold_importance_df[\"fold\"] = count\n",
    "            features_importance = pd.concat([features_importance, fold_importance_df], axis=0)\n",
    "        if show_time:\n",
    "            end_time = time.time()\n",
    "            run_time = round(end_time - start_time)\n",
    "            print (\"fold\", count, \"took\", run_time , \"seconds to run\")\n",
    "            print (\"The estimated remaining training time in the current seed\", seed, \"are\", round(((folds - count) * run_time) / 60, 3), \"minutes\")        \n",
    "        \n",
    "        count += 1\n",
    "        print(\"Validation score\", cv_score)\n",
    "\n",
    "print(\"Mean RMSPE validation score of\", folds, \"folds\", score)"
   ]
  },
  {
   "cell_type": "code",
   "execution_count": null,
   "metadata": {},
   "outputs": [],
   "source": [
    "# 7.847215777463001"
   ]
  },
  {
   "cell_type": "code",
   "execution_count": null,
   "metadata": {
    "tags": []
   },
   "outputs": [],
   "source": [
    "if show_feature_importance:\n",
    "    import seaborn as sns\n",
    "    from matplotlib import pyplot as plt\n",
    "    feature_importance_df_ = features_importance\n",
    "    cols = feature_importance_df_[[\"Feature\", \"Importance\"]].groupby(\"Feature\").mean().sort_values(by=\"Importance\", ascending=True)[:10].index\n",
    "    best_features = feature_importance_df_[[\"Feature\", \"Importance\"]].groupby(\"Feature\").mean().sort_values(by=\"Importance\", ascending=True)[:10]\n",
    "    best_features.reset_index(inplace=True)\n",
    "    print(best_features.dtypes)\n",
    "    plt.figure(figsize=(10, 4))\n",
    "    sns.barplot(x=\"Importance\", y=\"Feature\", data=best_features)\n",
    "    plt.title('LightGBM Features (avg over folds)')\n",
    "    plt.tight_layout()"
   ]
  },
  {
   "cell_type": "code",
   "execution_count": null,
   "metadata": {
    "tags": []
   },
   "outputs": [],
   "source": [
    "if show_feature_importance:\n",
    "    feature_importance_df_ = features_importance\n",
    "    cols = feature_importance_df_[[\"Feature\", \"Importance\"]].groupby(\"Feature\").mean().sort_values(by=\"Importance\", ascending= False)[:10].index\n",
    "    best_features = feature_importance_df_[[\"Feature\", \"Importance\"]].groupby(\"Feature\").mean().sort_values(by=\"Importance\", ascending=False)[:10]\n",
    "    best_features.reset_index(inplace=True)\n",
    "    \n",
    "    print(best_features.dtypes)\n",
    "    plt.figure(figsize=(10, 4))\n",
    "    sns.barplot(x=\"Importance\", y=\"Feature\", data=best_features)\n",
    "    plt.title('LightGBM Features (avg over folds)')\n",
    "    plt.tight_layout()\n",
    "    plt.show()"
   ]
  },
  {
   "cell_type": "code",
   "execution_count": null,
   "metadata": {
    "tags": []
   },
   "outputs": [],
   "source": [
    "output = []\n",
    "for filepath in glob.iglob('fold_models/*.pkl'):   \n",
    "    model = joblib.load(filepath)\n",
    "    pred = model.predict(test, num_iteration = model.best_iteration_)\n",
    "    output.append(pred)\n",
    "y_pred = sum(output) / len(output)"
   ]
  },
  {
   "cell_type": "code",
   "execution_count": null,
   "metadata": {
    "tags": []
   },
   "outputs": [],
   "source": [
    "final_pred = pd.read_csv(\"D:/KaggleTabular/August/sample_submission.csv\")\n",
    "final_pred.loss = y_pred\n",
    "final_pred"
   ]
  },
  {
   "cell_type": "code",
   "execution_count": 32,
   "metadata": {
    "tags": []
   },
   "outputs": [],
   "source": [
    "final_pred.to_csv('submission.csv', index=False)"
   ]
  },
  {
   "cell_type": "code",
   "execution_count": 23,
   "metadata": {},
   "outputs": [
    {
     "name": "stdout",
     "output_type": "stream",
     "text": [
      "Successfully submitted to Tabular Playground Series - Aug 2021\n"
     ]
    },
    {
     "name": "stderr",
     "output_type": "stream",
     "text": [
      "\n",
      "  0%|          | 0.00/3.72M [00:00<?, ?B/s]\n",
      "  3%|2         | 112k/3.72M [00:00<00:03, 1.12MB/s]\n",
      " 10%|#         | 384k/3.72M [00:00<00:01, 2.04MB/s]\n",
      " 16%|#5        | 600k/3.72M [00:00<00:01, 2.08MB/s]\n",
      " 25%|##4       | 944k/3.72M [00:00<00:01, 2.62MB/s]\n",
      " 32%|###1      | 1.17M/3.72M [00:00<00:01, 2.03MB/s]\n",
      " 40%|####      | 1.49M/3.72M [00:00<00:00, 2.40MB/s]\n",
      " 47%|####6     | 1.74M/3.72M [00:00<00:00, 2.32MB/s]\n",
      " 53%|#####3    | 1.98M/3.72M [00:00<00:00, 2.26MB/s]\n",
      " 59%|#####9    | 2.20M/3.72M [00:01<00:00, 2.22MB/s]\n",
      " 65%|######5   | 2.42M/3.72M [00:01<00:00, 2.19MB/s]\n",
      " 71%|#######1  | 2.64M/3.72M [00:01<00:00, 2.17MB/s]\n",
      " 77%|#######6  | 2.85M/3.72M [00:01<00:00, 2.16MB/s]\n",
      " 82%|########2 | 3.06M/3.72M [00:01<00:00, 2.16MB/s]\n",
      " 88%|########8 | 3.27M/3.72M [00:01<00:00, 2.15MB/s]\n",
      " 94%|#########3| 3.48M/3.72M [00:01<00:00, 2.14MB/s]\n",
      "100%|#########9| 3.70M/3.72M [00:01<00:00, 2.15MB/s]\n",
      "100%|##########| 3.72M/3.72M [00:03<00:00, 1.26MB/s]\n"
     ]
    }
   ],
   "source": [
    "# This code will submit the model to the competition if you have installed kaggle\n",
    "!kaggle competitions submit -c tabular-playground-series-aug-2021 -f submission.csv -m \"Optuna Tuned LightGBM Model\""
   ]
  },
  {
   "cell_type": "code",
   "execution_count": null,
   "metadata": {},
   "outputs": [],
   "source": []
  }
 ],
 "metadata": {
  "kernelspec": {
   "display_name": "Python 3",
   "language": "python",
   "name": "python3"
  },
  "language_info": {
   "codemirror_mode": {
    "name": "ipython",
    "version": 3
   },
   "file_extension": ".py",
   "mimetype": "text/x-python",
   "name": "python",
   "nbconvert_exporter": "python",
   "pygments_lexer": "ipython3",
   "version": "3.8.8"
  }
 },
 "nbformat": 4,
 "nbformat_minor": 4
}
