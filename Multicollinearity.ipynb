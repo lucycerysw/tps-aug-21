{
 "cells": [
  {
   "cell_type": "markdown",
   "id": "3381014d-a5ef-4657-ac5e-b81f0f7595da",
   "metadata": {},
   "source": [
    "# Imports"
   ]
  },
  {
   "cell_type": "code",
   "execution_count": 2,
   "id": "8c30b075",
   "metadata": {},
   "outputs": [],
   "source": [
    "import numpy as np \n",
    "import pandas as pd \n",
    "import seaborn as sns \n",
    "import os\n",
    "from statsmodels.stats.outliers_influence import variance_inflation_factor\n",
    "\n",
    "# train_path = r'Users/lucywilliams/Downloads/tabular-playground-series-aug-2021/train.csv'\n",
    "train_path = r'D:/KaggleTabular/August/train.csv'"
   ]
  },
  {
   "cell_type": "code",
   "execution_count": 5,
   "id": "e4ae235b",
   "metadata": {},
   "outputs": [],
   "source": [
    "train = pd.read_csv(train_path, index_col=0)"
   ]
  },
  {
   "cell_type": "code",
   "execution_count": 6,
   "id": "eb5deb1a",
   "metadata": {},
   "outputs": [
    {
     "data": {
      "text/html": [
       "<div>\n",
       "<style scoped>\n",
       "    .dataframe tbody tr th:only-of-type {\n",
       "        vertical-align: middle;\n",
       "    }\n",
       "\n",
       "    .dataframe tbody tr th {\n",
       "        vertical-align: top;\n",
       "    }\n",
       "\n",
       "    .dataframe thead th {\n",
       "        text-align: right;\n",
       "    }\n",
       "</style>\n",
       "<table border=\"1\" class=\"dataframe\">\n",
       "  <thead>\n",
       "    <tr style=\"text-align: right;\">\n",
       "      <th></th>\n",
       "      <th>f0</th>\n",
       "      <th>f1</th>\n",
       "      <th>f2</th>\n",
       "      <th>f3</th>\n",
       "      <th>f4</th>\n",
       "      <th>f5</th>\n",
       "      <th>f6</th>\n",
       "      <th>f7</th>\n",
       "      <th>f8</th>\n",
       "      <th>f9</th>\n",
       "      <th>...</th>\n",
       "      <th>f91</th>\n",
       "      <th>f92</th>\n",
       "      <th>f93</th>\n",
       "      <th>f94</th>\n",
       "      <th>f95</th>\n",
       "      <th>f96</th>\n",
       "      <th>f97</th>\n",
       "      <th>f98</th>\n",
       "      <th>f99</th>\n",
       "      <th>loss</th>\n",
       "    </tr>\n",
       "    <tr>\n",
       "      <th>id</th>\n",
       "      <th></th>\n",
       "      <th></th>\n",
       "      <th></th>\n",
       "      <th></th>\n",
       "      <th></th>\n",
       "      <th></th>\n",
       "      <th></th>\n",
       "      <th></th>\n",
       "      <th></th>\n",
       "      <th></th>\n",
       "      <th></th>\n",
       "      <th></th>\n",
       "      <th></th>\n",
       "      <th></th>\n",
       "      <th></th>\n",
       "      <th></th>\n",
       "      <th></th>\n",
       "      <th></th>\n",
       "      <th></th>\n",
       "      <th></th>\n",
       "      <th></th>\n",
       "    </tr>\n",
       "  </thead>\n",
       "  <tbody>\n",
       "    <tr>\n",
       "      <th>0</th>\n",
       "      <td>-0.002350</td>\n",
       "      <td>59</td>\n",
       "      <td>0.766739</td>\n",
       "      <td>-1.350460</td>\n",
       "      <td>42.27270</td>\n",
       "      <td>16.68570</td>\n",
       "      <td>30.35990</td>\n",
       "      <td>1.267300</td>\n",
       "      <td>0.392007</td>\n",
       "      <td>1.09101</td>\n",
       "      <td>...</td>\n",
       "      <td>-42.43990</td>\n",
       "      <td>26.854000</td>\n",
       "      <td>1.45751</td>\n",
       "      <td>0.696161</td>\n",
       "      <td>0.941764</td>\n",
       "      <td>1.828470</td>\n",
       "      <td>0.924090</td>\n",
       "      <td>2.296580</td>\n",
       "      <td>10.489800</td>\n",
       "      <td>15</td>\n",
       "    </tr>\n",
       "    <tr>\n",
       "      <th>1</th>\n",
       "      <td>0.784462</td>\n",
       "      <td>145</td>\n",
       "      <td>-0.463845</td>\n",
       "      <td>-0.530421</td>\n",
       "      <td>27324.90000</td>\n",
       "      <td>3.47545</td>\n",
       "      <td>160.49800</td>\n",
       "      <td>0.828007</td>\n",
       "      <td>3.735860</td>\n",
       "      <td>1.28138</td>\n",
       "      <td>...</td>\n",
       "      <td>-184.13200</td>\n",
       "      <td>7.901370</td>\n",
       "      <td>1.70644</td>\n",
       "      <td>-0.494699</td>\n",
       "      <td>-2.058300</td>\n",
       "      <td>0.819184</td>\n",
       "      <td>0.439152</td>\n",
       "      <td>2.364700</td>\n",
       "      <td>1.143830</td>\n",
       "      <td>3</td>\n",
       "    </tr>\n",
       "    <tr>\n",
       "      <th>2</th>\n",
       "      <td>0.317816</td>\n",
       "      <td>19</td>\n",
       "      <td>-0.432571</td>\n",
       "      <td>-0.382644</td>\n",
       "      <td>1383.26000</td>\n",
       "      <td>19.71290</td>\n",
       "      <td>31.10260</td>\n",
       "      <td>-0.515354</td>\n",
       "      <td>34.430800</td>\n",
       "      <td>1.24210</td>\n",
       "      <td>...</td>\n",
       "      <td>7.43721</td>\n",
       "      <td>37.218100</td>\n",
       "      <td>3.25339</td>\n",
       "      <td>0.337934</td>\n",
       "      <td>0.615037</td>\n",
       "      <td>2.216760</td>\n",
       "      <td>0.745268</td>\n",
       "      <td>1.696790</td>\n",
       "      <td>12.305500</td>\n",
       "      <td>6</td>\n",
       "    </tr>\n",
       "    <tr>\n",
       "      <th>3</th>\n",
       "      <td>0.210753</td>\n",
       "      <td>17</td>\n",
       "      <td>-0.616454</td>\n",
       "      <td>0.946362</td>\n",
       "      <td>-119.25300</td>\n",
       "      <td>4.08235</td>\n",
       "      <td>185.25700</td>\n",
       "      <td>1.383310</td>\n",
       "      <td>-47.521400</td>\n",
       "      <td>1.09130</td>\n",
       "      <td>...</td>\n",
       "      <td>9.66778</td>\n",
       "      <td>0.626942</td>\n",
       "      <td>1.49425</td>\n",
       "      <td>0.517513</td>\n",
       "      <td>-10.222100</td>\n",
       "      <td>2.627310</td>\n",
       "      <td>0.617270</td>\n",
       "      <td>1.456450</td>\n",
       "      <td>10.028800</td>\n",
       "      <td>2</td>\n",
       "    </tr>\n",
       "    <tr>\n",
       "      <th>4</th>\n",
       "      <td>0.439671</td>\n",
       "      <td>20</td>\n",
       "      <td>0.968126</td>\n",
       "      <td>-0.092546</td>\n",
       "      <td>74.30200</td>\n",
       "      <td>12.30650</td>\n",
       "      <td>72.18600</td>\n",
       "      <td>-0.233964</td>\n",
       "      <td>24.399100</td>\n",
       "      <td>1.10151</td>\n",
       "      <td>...</td>\n",
       "      <td>290.65700</td>\n",
       "      <td>15.604300</td>\n",
       "      <td>1.73557</td>\n",
       "      <td>-0.476668</td>\n",
       "      <td>1.390190</td>\n",
       "      <td>2.195740</td>\n",
       "      <td>0.826987</td>\n",
       "      <td>1.784850</td>\n",
       "      <td>7.071970</td>\n",
       "      <td>1</td>\n",
       "    </tr>\n",
       "    <tr>\n",
       "      <th>...</th>\n",
       "      <td>...</td>\n",
       "      <td>...</td>\n",
       "      <td>...</td>\n",
       "      <td>...</td>\n",
       "      <td>...</td>\n",
       "      <td>...</td>\n",
       "      <td>...</td>\n",
       "      <td>...</td>\n",
       "      <td>...</td>\n",
       "      <td>...</td>\n",
       "      <td>...</td>\n",
       "      <td>...</td>\n",
       "      <td>...</td>\n",
       "      <td>...</td>\n",
       "      <td>...</td>\n",
       "      <td>...</td>\n",
       "      <td>...</td>\n",
       "      <td>...</td>\n",
       "      <td>...</td>\n",
       "      <td>...</td>\n",
       "      <td>...</td>\n",
       "    </tr>\n",
       "    <tr>\n",
       "      <th>249995</th>\n",
       "      <td>0.923980</td>\n",
       "      <td>6</td>\n",
       "      <td>0.663212</td>\n",
       "      <td>-0.055120</td>\n",
       "      <td>6.61768</td>\n",
       "      <td>1.26619</td>\n",
       "      <td>40.44790</td>\n",
       "      <td>0.852375</td>\n",
       "      <td>25.522400</td>\n",
       "      <td>1.12294</td>\n",
       "      <td>...</td>\n",
       "      <td>3517.97000</td>\n",
       "      <td>18.534200</td>\n",
       "      <td>1.41936</td>\n",
       "      <td>0.607504</td>\n",
       "      <td>4.950780</td>\n",
       "      <td>2.853420</td>\n",
       "      <td>0.961882</td>\n",
       "      <td>1.068010</td>\n",
       "      <td>1.437650</td>\n",
       "      <td>11</td>\n",
       "    </tr>\n",
       "    <tr>\n",
       "      <th>249996</th>\n",
       "      <td>0.243556</td>\n",
       "      <td>7</td>\n",
       "      <td>-0.557062</td>\n",
       "      <td>1.333470</td>\n",
       "      <td>-54.88610</td>\n",
       "      <td>17.58310</td>\n",
       "      <td>212.96400</td>\n",
       "      <td>-1.204750</td>\n",
       "      <td>-128.385000</td>\n",
       "      <td>1.19334</td>\n",
       "      <td>...</td>\n",
       "      <td>1945.81000</td>\n",
       "      <td>19.482200</td>\n",
       "      <td>1.60072</td>\n",
       "      <td>-0.154877</td>\n",
       "      <td>5.693280</td>\n",
       "      <td>1.994540</td>\n",
       "      <td>0.760925</td>\n",
       "      <td>1.427880</td>\n",
       "      <td>1.226720</td>\n",
       "      <td>5</td>\n",
       "    </tr>\n",
       "    <tr>\n",
       "      <th>249997</th>\n",
       "      <td>0.046023</td>\n",
       "      <td>53</td>\n",
       "      <td>0.462863</td>\n",
       "      <td>0.704034</td>\n",
       "      <td>2062.94000</td>\n",
       "      <td>14.58160</td>\n",
       "      <td>11.42710</td>\n",
       "      <td>-0.509812</td>\n",
       "      <td>80.818000</td>\n",
       "      <td>1.20383</td>\n",
       "      <td>...</td>\n",
       "      <td>-28.46890</td>\n",
       "      <td>11.008200</td>\n",
       "      <td>1.61080</td>\n",
       "      <td>-0.350927</td>\n",
       "      <td>27.986900</td>\n",
       "      <td>1.012690</td>\n",
       "      <td>0.830533</td>\n",
       "      <td>1.005470</td>\n",
       "      <td>0.455332</td>\n",
       "      <td>1</td>\n",
       "    </tr>\n",
       "    <tr>\n",
       "      <th>249998</th>\n",
       "      <td>0.977330</td>\n",
       "      <td>12</td>\n",
       "      <td>-1.002880</td>\n",
       "      <td>0.576377</td>\n",
       "      <td>4741.16000</td>\n",
       "      <td>11.10090</td>\n",
       "      <td>3.81546</td>\n",
       "      <td>0.616191</td>\n",
       "      <td>118.902000</td>\n",
       "      <td>1.50424</td>\n",
       "      <td>...</td>\n",
       "      <td>-275.53700</td>\n",
       "      <td>21.985700</td>\n",
       "      <td>3.16051</td>\n",
       "      <td>0.772058</td>\n",
       "      <td>2.592220</td>\n",
       "      <td>3.938260</td>\n",
       "      <td>0.697430</td>\n",
       "      <td>0.962347</td>\n",
       "      <td>7.415890</td>\n",
       "      <td>10</td>\n",
       "    </tr>\n",
       "    <tr>\n",
       "      <th>249999</th>\n",
       "      <td>0.244233</td>\n",
       "      <td>51</td>\n",
       "      <td>0.729304</td>\n",
       "      <td>-0.702592</td>\n",
       "      <td>197.46200</td>\n",
       "      <td>19.02400</td>\n",
       "      <td>42.33370</td>\n",
       "      <td>0.465181</td>\n",
       "      <td>-115.398000</td>\n",
       "      <td>1.13675</td>\n",
       "      <td>...</td>\n",
       "      <td>5387.25000</td>\n",
       "      <td>38.574600</td>\n",
       "      <td>3.61783</td>\n",
       "      <td>-0.544969</td>\n",
       "      <td>-0.987695</td>\n",
       "      <td>1.871910</td>\n",
       "      <td>0.452516</td>\n",
       "      <td>0.935411</td>\n",
       "      <td>28.912200</td>\n",
       "      <td>7</td>\n",
       "    </tr>\n",
       "  </tbody>\n",
       "</table>\n",
       "<p>250000 rows × 101 columns</p>\n",
       "</div>"
      ],
      "text/plain": [
       "              f0   f1        f2        f3           f4        f5         f6  \\\n",
       "id                                                                            \n",
       "0      -0.002350   59  0.766739 -1.350460     42.27270  16.68570   30.35990   \n",
       "1       0.784462  145 -0.463845 -0.530421  27324.90000   3.47545  160.49800   \n",
       "2       0.317816   19 -0.432571 -0.382644   1383.26000  19.71290   31.10260   \n",
       "3       0.210753   17 -0.616454  0.946362   -119.25300   4.08235  185.25700   \n",
       "4       0.439671   20  0.968126 -0.092546     74.30200  12.30650   72.18600   \n",
       "...          ...  ...       ...       ...          ...       ...        ...   \n",
       "249995  0.923980    6  0.663212 -0.055120      6.61768   1.26619   40.44790   \n",
       "249996  0.243556    7 -0.557062  1.333470    -54.88610  17.58310  212.96400   \n",
       "249997  0.046023   53  0.462863  0.704034   2062.94000  14.58160   11.42710   \n",
       "249998  0.977330   12 -1.002880  0.576377   4741.16000  11.10090    3.81546   \n",
       "249999  0.244233   51  0.729304 -0.702592    197.46200  19.02400   42.33370   \n",
       "\n",
       "              f7          f8       f9  ...         f91        f92      f93  \\\n",
       "id                                     ...                                   \n",
       "0       1.267300    0.392007  1.09101  ...   -42.43990  26.854000  1.45751   \n",
       "1       0.828007    3.735860  1.28138  ...  -184.13200   7.901370  1.70644   \n",
       "2      -0.515354   34.430800  1.24210  ...     7.43721  37.218100  3.25339   \n",
       "3       1.383310  -47.521400  1.09130  ...     9.66778   0.626942  1.49425   \n",
       "4      -0.233964   24.399100  1.10151  ...   290.65700  15.604300  1.73557   \n",
       "...          ...         ...      ...  ...         ...        ...      ...   \n",
       "249995  0.852375   25.522400  1.12294  ...  3517.97000  18.534200  1.41936   \n",
       "249996 -1.204750 -128.385000  1.19334  ...  1945.81000  19.482200  1.60072   \n",
       "249997 -0.509812   80.818000  1.20383  ...   -28.46890  11.008200  1.61080   \n",
       "249998  0.616191  118.902000  1.50424  ...  -275.53700  21.985700  3.16051   \n",
       "249999  0.465181 -115.398000  1.13675  ...  5387.25000  38.574600  3.61783   \n",
       "\n",
       "             f94        f95       f96       f97       f98        f99  loss  \n",
       "id                                                                          \n",
       "0       0.696161   0.941764  1.828470  0.924090  2.296580  10.489800    15  \n",
       "1      -0.494699  -2.058300  0.819184  0.439152  2.364700   1.143830     3  \n",
       "2       0.337934   0.615037  2.216760  0.745268  1.696790  12.305500     6  \n",
       "3       0.517513 -10.222100  2.627310  0.617270  1.456450  10.028800     2  \n",
       "4      -0.476668   1.390190  2.195740  0.826987  1.784850   7.071970     1  \n",
       "...          ...        ...       ...       ...       ...        ...   ...  \n",
       "249995  0.607504   4.950780  2.853420  0.961882  1.068010   1.437650    11  \n",
       "249996 -0.154877   5.693280  1.994540  0.760925  1.427880   1.226720     5  \n",
       "249997 -0.350927  27.986900  1.012690  0.830533  1.005470   0.455332     1  \n",
       "249998  0.772058   2.592220  3.938260  0.697430  0.962347   7.415890    10  \n",
       "249999 -0.544969  -0.987695  1.871910  0.452516  0.935411  28.912200     7  \n",
       "\n",
       "[250000 rows x 101 columns]"
      ]
     },
     "execution_count": 6,
     "metadata": {},
     "output_type": "execute_result"
    }
   ],
   "source": [
    "train"
   ]
  },
  {
   "cell_type": "code",
   "execution_count": 8,
   "id": "ca9201ad",
   "metadata": {},
   "outputs": [],
   "source": [
    "X = train.drop([\"loss\"], axis = 1)\n",
    "y = train.loss"
   ]
  },
  {
   "cell_type": "code",
   "execution_count": 9,
   "id": "c6c90bb1",
   "metadata": {},
   "outputs": [],
   "source": [
    "%%time\n",
    "vif = pd.DataFrame()\n",
    "vif['VIF'] = [variance_inflation_factor(X.values, i) for i in range(X.shape[1])]\n",
    "vif['variable'] = X.columns"
   ]
  },
  {
   "cell_type": "code",
   "execution_count": 10,
   "id": "d00c4d05",
   "metadata": {},
   "outputs": [
    {
     "data": {
      "text/html": [
       "<div>\n",
       "<style scoped>\n",
       "    .dataframe tbody tr th:only-of-type {\n",
       "        vertical-align: middle;\n",
       "    }\n",
       "\n",
       "    .dataframe tbody tr th {\n",
       "        vertical-align: top;\n",
       "    }\n",
       "\n",
       "    .dataframe thead th {\n",
       "        text-align: right;\n",
       "    }\n",
       "</style>\n",
       "<table border=\"1\" class=\"dataframe\">\n",
       "  <thead>\n",
       "    <tr style=\"text-align: right;\">\n",
       "      <th></th>\n",
       "      <th>VIF</th>\n",
       "      <th>variable</th>\n",
       "    </tr>\n",
       "  </thead>\n",
       "  <tbody>\n",
       "    <tr>\n",
       "      <th>9</th>\n",
       "      <td>0.864459</td>\n",
       "      <td>f9</td>\n",
       "    </tr>\n",
       "    <tr>\n",
       "      <th>64</th>\n",
       "      <td>0.872415</td>\n",
       "      <td>f64</td>\n",
       "    </tr>\n",
       "    <tr>\n",
       "      <th>79</th>\n",
       "      <td>0.879373</td>\n",
       "      <td>f79</td>\n",
       "    </tr>\n",
       "    <tr>\n",
       "      <th>12</th>\n",
       "      <td>0.914368</td>\n",
       "      <td>f12</td>\n",
       "    </tr>\n",
       "    <tr>\n",
       "      <th>34</th>\n",
       "      <td>0.923462</td>\n",
       "      <td>f34</td>\n",
       "    </tr>\n",
       "    <tr>\n",
       "      <th>...</th>\n",
       "      <td>...</td>\n",
       "      <td>...</td>\n",
       "    </tr>\n",
       "    <tr>\n",
       "      <th>10</th>\n",
       "      <td>1.008380</td>\n",
       "      <td>f10</td>\n",
       "    </tr>\n",
       "    <tr>\n",
       "      <th>52</th>\n",
       "      <td>1.008440</td>\n",
       "      <td>f52</td>\n",
       "    </tr>\n",
       "    <tr>\n",
       "      <th>2</th>\n",
       "      <td>1.008804</td>\n",
       "      <td>f2</td>\n",
       "    </tr>\n",
       "    <tr>\n",
       "      <th>48</th>\n",
       "      <td>1.010155</td>\n",
       "      <td>f48</td>\n",
       "    </tr>\n",
       "    <tr>\n",
       "      <th>37</th>\n",
       "      <td>1.011036</td>\n",
       "      <td>f37</td>\n",
       "    </tr>\n",
       "  </tbody>\n",
       "</table>\n",
       "<p>99 rows × 2 columns</p>\n",
       "</div>"
      ],
      "text/plain": [
       "         VIF variable\n",
       "9   0.864459       f9\n",
       "64  0.872415      f64\n",
       "79  0.879373      f79\n",
       "12  0.914368      f12\n",
       "34  0.923462      f34\n",
       "..       ...      ...\n",
       "10  1.008380      f10\n",
       "52  1.008440      f52\n",
       "2   1.008804       f2\n",
       "48  1.010155      f48\n",
       "37  1.011036      f37\n",
       "\n",
       "[99 rows x 2 columns]"
      ]
     },
     "execution_count": 10,
     "metadata": {},
     "output_type": "execute_result"
    }
   ],
   "source": [
    "vif[round(vif.VIF) == 1].sort_values(by = \"VIF\")"
   ]
  },
  {
   "cell_type": "code",
   "execution_count": 11,
   "id": "0741adef",
   "metadata": {},
   "outputs": [
    {
     "data": {
      "text/html": [
       "<div>\n",
       "<style scoped>\n",
       "    .dataframe tbody tr th:only-of-type {\n",
       "        vertical-align: middle;\n",
       "    }\n",
       "\n",
       "    .dataframe tbody tr th {\n",
       "        vertical-align: top;\n",
       "    }\n",
       "\n",
       "    .dataframe thead th {\n",
       "        text-align: right;\n",
       "    }\n",
       "</style>\n",
       "<table border=\"1\" class=\"dataframe\">\n",
       "  <thead>\n",
       "    <tr style=\"text-align: right;\">\n",
       "      <th></th>\n",
       "      <th>VIF</th>\n",
       "      <th>variable</th>\n",
       "    </tr>\n",
       "  </thead>\n",
       "  <tbody>\n",
       "    <tr>\n",
       "      <th>60</th>\n",
       "      <td>3.911184</td>\n",
       "      <td>f60</td>\n",
       "    </tr>\n",
       "    <tr>\n",
       "      <th>37</th>\n",
       "      <td>1.011036</td>\n",
       "      <td>f37</td>\n",
       "    </tr>\n",
       "    <tr>\n",
       "      <th>48</th>\n",
       "      <td>1.010155</td>\n",
       "      <td>f48</td>\n",
       "    </tr>\n",
       "  </tbody>\n",
       "</table>\n",
       "</div>"
      ],
      "text/plain": [
       "         VIF variable\n",
       "60  3.911184      f60\n",
       "37  1.011036      f37\n",
       "48  1.010155      f48"
      ]
     },
     "execution_count": 11,
     "metadata": {},
     "output_type": "execute_result"
    }
   ],
   "source": [
    "vif[vif.VIF > 1.01].sort_values(by = 'VIF', ascending = False)"
   ]
  },
  {
   "cell_type": "markdown",
   "id": "85f2a7a3-e868-4688-99c0-eadf1046152b",
   "metadata": {},
   "source": [
    "# VIF Tuning"
   ]
  },
  {
   "cell_type": "code",
   "execution_count": 1,
   "id": "1b5e120f-7626-4c23-83f3-d65b767747f3",
   "metadata": {},
   "outputs": [],
   "source": [
    "import pandas as pd\n",
    "import numpy as np\n",
    "\n",
    "from sklearn.preprocessing import RobustScaler\n",
    "from sklearn.model_selection import KFold, cross_val_score\n",
    "from sklearn.metrics import mean_squared_error\n",
    "from sklearn.metrics import make_scorer\n",
    "\n",
    "from lightgbm import LGBMRegressor\n",
    "\n",
    "from imblearn.over_sampling import SMOTEN\n",
    "from imblearn.pipeline import make_pipeline\n",
    "\n",
    "import seaborn as sns\n",
    "import matplotlib.pyplot as plt\n",
    "import gc\n",
    "\n",
    "sns.set_style('darkgrid')\n",
    "%matplotlib inline\n",
    "rs = 69420\n",
    "# train_path = r'Users/lucywilliams/Downloads/tabular-playground-series-aug-2021/train.csv'\n",
    "train_path = r'D:/KaggleTabular/August/train.csv'"
   ]
  },
  {
   "cell_type": "code",
   "execution_count": 2,
   "id": "3189a8e7-d4e3-46ba-ad11-347a05917cc0",
   "metadata": {},
   "outputs": [
    {
     "data": {
      "text/plain": [
       "((250000, 100), (250000,))"
      ]
     },
     "execution_count": 2,
     "metadata": {},
     "output_type": "execute_result"
    }
   ],
   "source": [
    "train = pd.read_csv(train_path, index_col=0)\n",
    "y = train.loss\n",
    "X = train.drop([\"loss\"], axis = 1)\n",
    "\n",
    "X.shape, y.shape"
   ]
  },
  {
   "cell_type": "code",
   "execution_count": 3,
   "id": "9c79dc45-866e-449f-8685-96b36c3432d8",
   "metadata": {},
   "outputs": [
    {
     "data": {
      "image/png": "[encoded data removed]",
      "text/plain": [
       "<Figure size 720x360 with 1 Axes>"
      ]
     },
     "metadata": {
      "needs_background": "light"
     },
     "output_type": "display_data"
    }
   ],
   "source": [
    "plt.figure(figsize=(10,5))\n",
    "sns.countplot(x=y)\n",
    "plt.title(\"Countplot of Each Class\")\n",
    "plt.xlabel(\"Class\")\n",
    "plt.ylabel(\"Count\")\n",
    "plt.show()"
   ]
  },
  {
   "cell_type": "code",
   "execution_count": 4,
   "id": "821d21b3-6ea5-46a7-94bb-83836115397c",
   "metadata": {
    "jupyter": {
     "source_hidden": true
    },
    "tags": []
   },
   "outputs": [],
   "source": [
    "# from collections import Counter\n",
    "\n",
    "\n",
    "# def plot_resampling(X, y, sampler, ax):\n",
    "#     \"\"\"Plot the resampled dataset using the sampler.\"\"\"\n",
    "#     X_res, y_res = sampler.fit_resample(X, y)\n",
    "#     ax.scatter(X_res[:, 0], X_res[:, 1], c=y_res, alpha=0.8, edgecolor=\"k\")\n",
    "#     sns.despine(ax=ax, offset=10)\n",
    "#     ax.set_title(f\"Decision function for {sampler.__class__.__name__}\")\n",
    "#     return Counter(y_res)\n",
    "\n",
    "# import numpy as np\n",
    "\n",
    "\n",
    "# def plot_decision_function(X, y, clf, ax):\n",
    "#     \"\"\"Plot the decision function of the classifier and the original data\"\"\"\n",
    "#     plot_step = 0.02\n",
    "#     x_min, x_max = X[:, 0].min() - 1, X[:, 0].max() + 1\n",
    "#     y_min, y_max = X[:, 1].min() - 1, X[:, 1].max() + 1\n",
    "#     xx, yy = np.meshgrid(\n",
    "#         np.arange(x_min, x_max, plot_step), np.arange(y_min, y_max, plot_step)\n",
    "#     )\n",
    "\n",
    "#     Z = clf.predict(np.c_[xx.ravel(), yy.ravel()])\n",
    "#     Z = Z.reshape(xx.shape)\n",
    "#     ax.contourf(xx, yy, Z, alpha=0.4)\n",
    "#     ax.scatter(X[:, 0], X[:, 1], alpha=0.8, c=y, edgecolor=\"k\")\n",
    "#     ax.set_title(f\"Resampling using {clf[0].__class__.__name__}\")"
   ]
  },
  {
   "cell_type": "code",
   "execution_count": 5,
   "id": "db7c3c29-8b99-44b1-9817-a013a1117f73",
   "metadata": {
    "jupyter": {
     "source_hidden": true
    },
    "tags": []
   },
   "outputs": [],
   "source": [
    "# This will take hours and atleast 13GB RAM\n",
    "\n",
    "# %%time\n",
    "# from imblearn.over_sampling import SMOTE\n",
    "# from imblearn.combine import SMOTEENN, SMOTETomek\n",
    "# from imblearn.pipeline import make_pipeline\n",
    "# from sklearn.svm import LinearSVC\n",
    "\n",
    "# samplers = [\n",
    "#     SMOTE(random_state=0, n_jobs=-1, k_neighbors=2),\n",
    "# #     SMOTEENN(random_state=0, n_jobs=-1),\n",
    "# #     SMOTETomek(random_state=0, n_jobs=-1)\n",
    "# ]\n",
    "\n",
    "# fig, axs = plt.subplots(3, 2, figsize=(15, 25))\n",
    "# for ax, sampler in zip(axs, samplers):\n",
    "#     clf = make_pipeline(sampler, LinearSVC()).fit(X, y)\n",
    "#     plot_decision_function(X, y, clf, ax[0])\n",
    "#     plot_resampling(X, y, sampler, ax[1])\n",
    "# fig.tight_layout()\n",
    "\n",
    "# plt.show()"
   ]
  },
  {
   "cell_type": "markdown",
   "id": "73e1eb8b-23df-4c5f-9779-e76105263093",
   "metadata": {},
   "source": [
    "## Baseline Model"
   ]
  },
  {
   "cell_type": "code",
   "execution_count": 6,
   "id": "84676776-fce4-43ec-9612-381cfc63fa0f",
   "metadata": {},
   "outputs": [],
   "source": [
    "pipe = make_pipeline(\n",
    "    RobustScaler(),\n",
    "    LGBMRegressor(objective='rmse', random_state=rs)\n",
    ")\n",
    "\n",
    "def rmse(y_true, y_pred):\n",
    "    return np.sqrt(mean_squared_error(y_true, y_pred))\n",
    "\n",
    "rmse_score = make_scorer(\n",
    "    rmse,\n",
    "    greater_is_better=False\n",
    ")\n",
    "\n",
    "cv = KFold(n_splits=10, shuffle=True, random_state=rs)"
   ]
  },
  {
   "cell_type": "code",
   "execution_count": 7,
   "id": "6660c3b3-26b7-4a16-bdcb-9f452ead70d8",
   "metadata": {},
   "outputs": [
    {
     "name": "stdout",
     "output_type": "stream",
     "text": [
      "Wall time: 36.6 s\n"
     ]
    }
   ],
   "source": [
    "%%time\n",
    "cv_scores = cross_val_score(\n",
    "    pipe,\n",
    "    X, y,\n",
    "    scoring=rmse_score,\n",
    "    cv=cv\n",
    ")"
   ]
  },
  {
   "cell_type": "code",
   "execution_count": 8,
   "id": "f14497dd-eada-442a-a2c8-7be26b8344a2",
   "metadata": {},
   "outputs": [
    {
     "data": {
      "image/png": "[encoded data removed]",
      "text/plain": [
       "<Figure size 576x360 with 1 Axes>"
      ]
     },
     "metadata": {
      "needs_background": "light"
     },
     "output_type": "display_data"
    },
    {
     "data": {
      "image/png": "[encoded data removed]",
      "text/plain": [
       "<Figure size 576x360 with 1 Axes>"
      ]
     },
     "metadata": {
      "needs_background": "light"
     },
     "output_type": "display_data"
    },
    {
     "name": "stdout",
     "output_type": "stream",
     "text": [
      "Mean RMSE: 7.86099, STD RMSE: 0.02646\n"
     ]
    }
   ],
   "source": [
    "plt.figure(figsize=(8, 5))\n",
    "plt.plot(-cv_scores)\n",
    "plt.title('Cross Validation RMSE of Baseline Model')\n",
    "plt.xlabel('Fold')\n",
    "plt.ylabel('RMSE')\n",
    "plt.show()\n",
    "\n",
    "plt.figure(figsize=(8, 5))\n",
    "plt.boxplot(-cv_scores)\n",
    "plt.title('Cross Validation RMSE of Baseline Model')\n",
    "plt.ylabel('RMSE')\n",
    "plt.show()\n",
    "\n",
    "print(f\"Mean RMSE: {round(np.mean(-cv_scores), 5)}, STD RMSE: {round(np.std(-cv_scores), 5)}\")"
   ]
  },
  {
   "cell_type": "markdown",
   "id": "df5ee164-89f9-4c51-96d4-09ec9046f15f",
   "metadata": {},
   "source": [
    "## Automated VIF Tuning"
   ]
  },
  {
   "cell_type": "markdown",
   "id": "d4e397b0-e44c-4da7-867b-fcc14366fc10",
   "metadata": {},
   "source": [
    "Next steps would be to optimise the threshold for the dropped variables"
   ]
  },
  {
   "cell_type": "code",
   "execution_count": 14,
   "id": "d3391c74",
   "metadata": {},
   "outputs": [],
   "source": [
    "from statsmodels.stats.outliers_influence import variance_inflation_factor    \n",
    "\n",
    "def calculate_vif_(X, thresh=3.0):\n",
    "    \n",
    "    variables = list(range(X.shape[1]))\n",
    "    dropped = True\n",
    "    while dropped:\n",
    "        dropped = False\n",
    "        vif = [variance_inflation_factor(X.iloc[:, variables].values, ix) for ix in range(X.iloc[:, variables].shape[1])]\n",
    "        maxloc = vif.index(max(vif))\n",
    "        if max(vif) > thresh:\n",
    "            print('dropping \\'' + X.iloc[:, variables].columns[maxloc] +\n",
    "                  '\\' at index: ' + str(maxloc))\n",
    "            del variables[maxloc]\n",
    "            dropped = True\n",
    "\n",
    "    print('Remaining variables:')\n",
    "    print(X.columns[variables])\n",
    "    return X.iloc[:, variables]"
   ]
  },
  {
   "cell_type": "code",
   "execution_count": 15,
   "id": "011d69bc-6638-477d-a44c-5483a3839619",
   "metadata": {},
   "outputs": [
    {
     "name": "stdout",
     "output_type": "stream",
     "text": [
      "dropping 'f60' at index: 60\n",
      "dropping 'f64' at index: 63\n",
      "dropping 'f9' at index: 9\n",
      "dropping 'f79' at index: 76\n",
      "dropping 'f12' at index: 11\n",
      "dropping 'f34' at index: 32\n",
      "dropping 'f30' at index: 28\n",
      "dropping 'f26' at index: 24\n",
      "dropping 'f58' at index: 53\n",
      "dropping 'f53' at index: 48\n",
      "dropping 'f85' at index: 75\n",
      "dropping 'f78' at index: 69\n",
      "dropping 'f73' at index: 64\n",
      "dropping 'f80' at index: 68\n",
      "dropping 'f96' at index: 82\n",
      "dropping 'f50' at index: 45\n",
      "dropping 'f31' at index: 27\n",
      "dropping 'f84' at index: 69\n",
      "dropping 'f98' at index: 80\n",
      "dropping 'f97' at index: 79\n",
      "dropping 'f43' at index: 37\n",
      "dropping 'f93' at index: 75\n",
      "dropping 'f57' at index: 48\n",
      "dropping 'f66' at index: 53\n",
      "dropping 'f65' at index: 52\n",
      "dropping 'f63' at index: 51\n",
      "dropping 'f29' at index: 26\n",
      "dropping 'f72' at index: 55\n",
      "dropping 'f82' at index: 60\n",
      "dropping 'f23' at index: 21\n",
      "dropping 'f46' at index: 37\n",
      "dropping 'f88' at index: 61\n",
      "dropping 'f41' at index: 33\n",
      "dropping 'f61' at index: 45\n",
      "dropping 'f25' at index: 22\n",
      "dropping 'f74' at index: 50\n",
      "dropping 'f36' at index: 27\n",
      "dropping 'f70' at index: 47\n",
      "dropping 'f21' at index: 19\n",
      "dropping 'f0' at index: 0\n",
      "dropping 'f62' at index: 41\n",
      "dropping 'f42' at index: 29\n",
      "dropping 'f47' at index: 31\n",
      "dropping 'f92' at index: 53\n",
      "dropping 'f5' at index: 4\n",
      "Remaining variables:\n",
      "Index(['f1', 'f2', 'f3', 'f4', 'f6', 'f7', 'f8', 'f10', 'f11', 'f13', 'f14',\n",
      "       'f15', 'f16', 'f17', 'f18', 'f19', 'f20', 'f22', 'f24', 'f27', 'f28',\n",
      "       'f32', 'f33', 'f35', 'f37', 'f38', 'f39', 'f40', 'f44', 'f45', 'f48',\n",
      "       'f49', 'f51', 'f52', 'f54', 'f55', 'f56', 'f59', 'f67', 'f68', 'f69',\n",
      "       'f71', 'f75', 'f76', 'f77', 'f81', 'f83', 'f86', 'f87', 'f89', 'f90',\n",
      "       'f91', 'f94', 'f95', 'f99'],\n",
      "      dtype='object')\n",
      "Wall time: 3h 34min 57s\n"
     ]
    }
   ],
   "source": [
    "%%time\n",
    "new_df = calculate_vif_(X)"
   ]
  },
  {
   "cell_type": "code",
   "execution_count": 16,
   "id": "75a19362-518c-4691-a00f-fb458c2542fe",
   "metadata": {},
   "outputs": [
    {
     "data": {
      "text/plain": [
       "Index(['f1', 'f2', 'f3', 'f4', 'f6', 'f7', 'f8', 'f10', 'f11', 'f13', 'f14',\n",
       "       'f15', 'f16', 'f17', 'f18', 'f19', 'f20', 'f22', 'f24', 'f27', 'f28',\n",
       "       'f32', 'f33', 'f35', 'f37', 'f38', 'f39', 'f40', 'f44', 'f45', 'f48',\n",
       "       'f49', 'f51', 'f52', 'f54', 'f55', 'f56', 'f59', 'f67', 'f68', 'f69',\n",
       "       'f71', 'f75', 'f76', 'f77', 'f81', 'f83', 'f86', 'f87', 'f89', 'f90',\n",
       "       'f91', 'f94', 'f95', 'f99'],\n",
       "      dtype='object')"
      ]
     },
     "execution_count": 16,
     "metadata": {},
     "output_type": "execute_result"
    }
   ],
   "source": [
    "new_cols = new_df.columns\n",
    "new_cols"
   ]
  },
  {
   "cell_type": "code",
   "execution_count": 20,
   "id": "2175ed22-d132-4c7a-a7c2-7b8565665b4d",
   "metadata": {},
   "outputs": [
    {
     "name": "stdout",
     "output_type": "stream",
     "text": [
      "Wall time: 19.9 s\n"
     ]
    }
   ],
   "source": [
    "%%time\n",
    "cv_scores = cross_val_score(\n",
    "    pipe,\n",
    "    new_df.values, y,\n",
    "    scoring=rmse_score,\n",
    "    cv=cv\n",
    ")"
   ]
  },
  {
   "cell_type": "code",
   "execution_count": 21,
   "id": "dfbcaf03-958c-40f8-86ac-56a740f4b792",
   "metadata": {},
   "outputs": [
    {
     "data": {
      "image/png": "[encoded data removed]",
      "text/plain": [
       "<Figure size 576x360 with 1 Axes>"
      ]
     },
     "metadata": {
      "needs_background": "light"
     },
     "output_type": "display_data"
    },
    {
     "data": {
      "image/png": "[encoded data removed]",
      "text/plain": [
       "<Figure size 576x360 with 1 Axes>"
      ]
     },
     "metadata": {
      "needs_background": "light"
     },
     "output_type": "display_data"
    },
    {
     "name": "stdout",
     "output_type": "stream",
     "text": [
      "Mean RMSE: 7.89401, STD RMSE: 0.02549\n"
     ]
    }
   ],
   "source": [
    "plt.figure(figsize=(8, 5))\n",
    "plt.plot(-cv_scores)\n",
    "plt.title('Cross Validation RMSE of VIF Tuned Model')\n",
    "plt.xlabel('Fold')\n",
    "plt.ylabel('RMSE')\n",
    "plt.show()\n",
    "\n",
    "plt.figure(figsize=(8, 5))\n",
    "plt.boxplot(-cv_scores)\n",
    "plt.title('Cross Validation RMSE of VIF Tuned Model')\n",
    "plt.ylabel('RMSE')\n",
    "plt.show()\n",
    "\n",
    "print(f\"Mean RMSE: {round(np.mean(-cv_scores), 5)}, STD RMSE: {round(np.std(-cv_scores), 5)}\")"
   ]
  },
  {
   "cell_type": "code",
   "execution_count": 22,
   "id": "ce957b2b-2eb9-48a0-ba7c-ef9c42cd3c7e",
   "metadata": {},
   "outputs": [],
   "source": [
    "# import time\n",
    "# from IPython.core.display import display, Javascript\n",
    "# display(Javascript('IPython.notebook.save_checkpoint();'))\n",
    "# time.sleep(10)\n",
    "\n",
    "# import os\n",
    "# os.system(\"shutdown /s /t 1\")"
   ]
  },
  {
   "cell_type": "code",
   "execution_count": null,
   "id": "70331744-ca14-4a73-a69e-9ef5022d9056",
   "metadata": {},
   "outputs": [],
   "source": []
  }
 ],
 "metadata": {
  "kernelspec": {
   "display_name": "Python 3",
   "language": "python",
   "name": "python3"
  },
  "language_info": {
   "codemirror_mode": {
    "name": "ipython",
    "version": 3
   },
   "file_extension": ".py",
   "mimetype": "text/x-python",
   "name": "python",
   "nbconvert_exporter": "python",
   "pygments_lexer": "ipython3",
   "version": "3.8.8"
  }
 },
 "nbformat": 4,
 "nbformat_minor": 5
}
